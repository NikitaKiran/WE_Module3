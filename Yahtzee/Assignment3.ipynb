{
  "nbformat": 4,
  "nbformat_minor": 0,
  "metadata": {
    "colab": {
      "provenance": []
    },
    "kernelspec": {
      "name": "python3",
      "display_name": "Python 3"
    },
    "language_info": {
      "name": "python"
    }
  },
  "cells": [
    {
      "cell_type": "code",
      "execution_count": null,
      "metadata": {
        "id": "UbuapoDaDaIE"
      },
      "outputs": [],
      "source": [
        "def score(dice: list[int]) -> dict[str, int]:\n",
        "    yahtzee_categories = {\n",
        "        \"ones\": lambda dice: sum(d for d in dice if d == 1),\n",
        "        \"twos\": lambda dice: sum(d for d in dice if d == 2),\n",
        "        \"threes\": lambda dice: sum(d for d in dice if d == 3),\n",
        "        \"fours\": lambda dice: sum(d for d in dice if d == 4),\n",
        "        \"fives\": lambda dice: sum(d for d in dice if d == 5),\n",
        "        \"sixes\": lambda dice: sum(d for d in dice if d == 6),\n",
        "        \"three_of_a_kind\": lambda dice: sum(d * 3 for d in set(dice) if dice.count(d) >= 3),\n",
        "        \"four_of_a_kind\": lambda dice: sum(d * 4 for d in set(dice) if dice.count(d) >= 4),\n",
        "        \"full_house\": lambda dice: 25 if (len(set(dice)) == 2 and dice.count(dice[0]) in [2, 3]) else 0,\n",
        "        \"small_straight\": lambda dice: 30 if any(dice[i] == dice[i+1] - 1 == dice[i+2] - 2 == dice[i+3] - 3 for i in range(len(dice) - 3)) else 0,\n",
        "        \"large_straight\": lambda dice: 40 if len(set(dice)) == 5 and (max(dice) - min(dice)) == 4 else 0,\n",
        "        \"yahtzee\": lambda dice: 50 if len(set(dice)) == 1 else 0,\n",
        "        \"chance\": lambda dice: sum(dice)\n",
        "    }\n",
        "\n",
        "    result = {}\n",
        "    for category, score_func in yahtzee_categories.items():\n",
        "        result[category] = score_func(dice)\n",
        "\n",
        "    return result\n",
        "\n",
        "\n",
        "def test_yahtzee_scorer(yahtzee_scorer):\n",
        "    # Test cases\n",
        "    test_cases = [\n",
        "        ([1, 1, 1, 1, 1], {'ones': 5, 'twos': 0, 'threes': 0, 'fours': 0, 'fives': 0, 'sixes': 0, 'three_of_a_kind': 3, 'four_of_a_kind': 4, 'full_house': 0, 'small_straight': 0, 'large_straight': 0, 'yahtzee': 50, 'chance': 5}),\n",
        "        ([2, 2, 2, 2, 2], {'ones': 0, 'twos': 10, 'threes': 0, 'fours': 0, 'fives': 0, 'sixes': 0, 'three_of_a_kind': 6, 'four_of_a_kind': 8, 'full_house': 0, 'small_straight': 0, 'large_straight': 0, 'yahtzee': 50, 'chance': 10}),\n",
        "        ([1, 2, 3, 4, 5], {'ones': 1, 'twos': 2, 'threes': 3, 'fours': 4, 'fives': 5, 'sixes': 0, 'three_of_a_kind': 0, 'four_of_a_kind': 0, 'full_house': 0, 'small_straight': 30, 'large_straight': 40, 'yahtzee': 0, 'chance': 15}),\n",
        "        ([1, 1, 2, 2, 2], {'ones': 2, 'twos': 6, 'threes': 0, 'fours': 0, 'fives': 0, 'sixes': 0, 'three_of_a_kind': 6, 'four_of_a_kind': 0, 'full_house': 25, 'small_straight': 0, 'large_straight': 0, 'yahtzee': 0, 'chance': 8}),\n",
        "        # Add more test cases here for each category\n",
        "    ]\n",
        "\n",
        "    # Run tests\n",
        "    for dice_roll, expected_scores in test_cases:\n",
        "        scores = yahtzee_scorer(dice_roll)\n",
        "        if scores == expected_scores:\n",
        "            print(f\"Pass: {dice_roll} -> {scores}\")\n",
        "        else:\n",
        "            print(f\"Fail: {dice_roll} -> {scores}. Expected: {expected_scores}\")\n"
      ]
    },
    {
      "cell_type": "code",
      "source": [
        "test_yahtzee_scorer(score)"
      ],
      "metadata": {
        "colab": {
          "base_uri": "https://localhost:8080/"
        },
        "id": "BMp8bfOZEKOQ",
        "outputId": "143611ff-4262-4475-9d8f-d776017d1ac3"
      },
      "execution_count": null,
      "outputs": [
        {
          "output_type": "stream",
          "name": "stdout",
          "text": [
            "Pass: [1, 1, 1, 1, 1] -> {'ones': 5, 'twos': 0, 'threes': 0, 'fours': 0, 'fives': 0, 'sixes': 0, 'three_of_a_kind': 3, 'four_of_a_kind': 4, 'full_house': 0, 'small_straight': 0, 'large_straight': 0, 'yahtzee': 50, 'chance': 5}\n",
            "Pass: [2, 2, 2, 2, 2] -> {'ones': 0, 'twos': 10, 'threes': 0, 'fours': 0, 'fives': 0, 'sixes': 0, 'three_of_a_kind': 6, 'four_of_a_kind': 8, 'full_house': 0, 'small_straight': 0, 'large_straight': 0, 'yahtzee': 50, 'chance': 10}\n",
            "Pass: [1, 2, 3, 4, 5] -> {'ones': 1, 'twos': 2, 'threes': 3, 'fours': 4, 'fives': 5, 'sixes': 0, 'three_of_a_kind': 0, 'four_of_a_kind': 0, 'full_house': 0, 'small_straight': 30, 'large_straight': 40, 'yahtzee': 0, 'chance': 15}\n",
            "Pass: [1, 1, 2, 2, 2] -> {'ones': 2, 'twos': 6, 'threes': 0, 'fours': 0, 'fives': 0, 'sixes': 0, 'three_of_a_kind': 6, 'four_of_a_kind': 0, 'full_house': 25, 'small_straight': 0, 'large_straight': 0, 'yahtzee': 0, 'chance': 8}\n"
          ]
        }
      ]
    }
  ]
}