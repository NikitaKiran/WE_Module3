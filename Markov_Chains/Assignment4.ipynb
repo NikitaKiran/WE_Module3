{
  "nbformat": 4,
  "nbformat_minor": 0,
  "metadata": {
    "colab": {
      "provenance": []
    },
    "kernelspec": {
      "name": "python3",
      "display_name": "Python 3"
    },
    "language_info": {
      "name": "python"
    }
  },
  "cells": [
    {
      "cell_type": "code",
      "execution_count": 12,
      "metadata": {
        "id": "XGRRDhHyWiFW"
      },
      "outputs": [],
      "source": [
        "import random\n",
        "\n",
        "def read_file(filename):\n",
        "    with open(filename, 'r', encoding='utf-8') as file:\n",
        "        text = file.read()\n",
        "    return text\n",
        "\n",
        "def clean(text):\n",
        "    return text.replace(\".\", \"  \").replace(\",\", \"  \")\n",
        "\n",
        "def build_markov_chain(text, chain_length):\n",
        "    words = text.split()\n",
        "    chain = {}\n",
        "    key = (\"~\",) * chain_length\n",
        "    for word in words:\n",
        "        chain[key] = chain.get(key, []) + [word,]\n",
        "        key = key[1:] + (word,)\n",
        "    print(chain)\n",
        "    return chain\n",
        "\n",
        "def generate(filename: str, start_words: list[str], chain_length: int, num_generated: int) -> str:\n",
        "    text = read_file(filename)\n",
        "    text = clean(text);\n",
        "    markov_chain = build_markov_chain(text, chain_length)\n",
        "    output = start_words.copy()\n",
        "    prefix = tuple(start_words)\n",
        "    for _ in range(num_generated):\n",
        "        if prefix in markov_chain:\n",
        "            next_word = random.choice(markov_chain[prefix])\n",
        "            output.append(next_word)\n",
        "            prefix = prefix[1:] + (next_word,)\n",
        "        else:\n",
        "            break\n",
        "\n",
        "    return ' '.join(output)\n"
      ]
    },
    {
      "cell_type": "code",
      "source": [
        "with open(\"sample.txt\", \"w\") as file:\n",
        "    file.write(\"The sun is shining. The cat is sleeping. I like to eat ice cream. The cat is cute. I want to go swimming when it is hot. The sun is right above us. The sun shines brightly. It is hot\")\n",
        "\n",
        "print(generate(\"sample.txt\", [\"The\", \"sun\"], 2, 20))"
      ],
      "metadata": {
        "colab": {
          "base_uri": "https://localhost:8080/"
        },
        "id": "6l6OGCVrjApD",
        "outputId": "ad814871-0f74-4d5d-b063-64e158b5879c"
      },
      "execution_count": 16,
      "outputs": [
        {
          "output_type": "stream",
          "name": "stdout",
          "text": [
            "{('~', '~'): ['The'], ('~', 'The'): ['sun'], ('The', 'sun'): ['is', 'is', 'shines'], ('sun', 'is'): ['shining', 'right'], ('is', 'shining'): ['The'], ('shining', 'The'): ['cat'], ('The', 'cat'): ['is', 'is'], ('cat', 'is'): ['sleeping', 'cute'], ('is', 'sleeping'): ['I'], ('sleeping', 'I'): ['like'], ('I', 'like'): ['to'], ('like', 'to'): ['eat'], ('to', 'eat'): ['ice'], ('eat', 'ice'): ['cream'], ('ice', 'cream'): ['The'], ('cream', 'The'): ['cat'], ('is', 'cute'): ['I'], ('cute', 'I'): ['want'], ('I', 'want'): ['to'], ('want', 'to'): ['go'], ('to', 'go'): ['swimming'], ('go', 'swimming'): ['when'], ('swimming', 'when'): ['it'], ('when', 'it'): ['is'], ('it', 'is'): ['hot'], ('is', 'hot'): ['The'], ('hot', 'The'): ['sun'], ('is', 'right'): ['above'], ('right', 'above'): ['us'], ('above', 'us'): ['The'], ('us', 'The'): ['sun'], ('sun', 'shines'): ['brightly'], ('shines', 'brightly'): ['It'], ('brightly', 'It'): ['is'], ('It', 'is'): ['hot']}\n",
            "The sun is right above us The sun shines brightly It is hot The sun is shining The cat is sleeping I\n"
          ]
        }
      ]
    }
  ]
}