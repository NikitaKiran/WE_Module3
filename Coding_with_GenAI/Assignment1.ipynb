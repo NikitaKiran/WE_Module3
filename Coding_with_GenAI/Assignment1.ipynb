{
  "nbformat": 4,
  "nbformat_minor": 0,
  "metadata": {
    "colab": {
      "provenance": []
    },
    "kernelspec": {
      "name": "python3",
      "display_name": "Python 3"
    },
    "language_info": {
      "name": "python"
    }
  },
  "cells": [
    {
      "cell_type": "code",
      "execution_count": null,
      "metadata": {
        "id": "lvz_tnSUoI-N"
      },
      "outputs": [],
      "source": [
        "def roman_to_arabic(roman):\n",
        "    roman = roman.replace('IV', 'IIII').replace('IX', 'VIIII')\n",
        "    roman = roman.replace('XL', 'XXXX').replace('XC', 'LXXXX')\n",
        "    roman = roman.replace('CD', 'CCCC').replace('CM', 'DCCCC')\n",
        "\n",
        "    roman_numerals = {'I': 1, 'V': 5, 'X': 10, 'L': 50, 'C': 100, 'D': 500, 'M': 1000}\n",
        "    arabic = sum(roman_numerals[numeral] for numeral in roman)\n",
        "\n",
        "    return arabic\n"
      ]
    },
    {
      "cell_type": "code",
      "source": [
        "roman_to_arabic('XIV')"
      ],
      "metadata": {
        "colab": {
          "base_uri": "https://localhost:8080/"
        },
        "id": "53-onsVkuzBB",
        "outputId": "ff375942-b431-48c3-9bd8-600924cbe897"
      },
      "execution_count": null,
      "outputs": [
        {
          "output_type": "execute_result",
          "data": {
            "text/plain": [
              "14"
            ]
          },
          "metadata": {},
          "execution_count": 2
        }
      ]
    },
    {
      "cell_type": "code",
      "source": [
        "roman_to_arabic('XCIX')"
      ],
      "metadata": {
        "colab": {
          "base_uri": "https://localhost:8080/"
        },
        "id": "Nu3apjnuu5qU",
        "outputId": "944fe8e3-ba37-4e14-d731-cccce84b6564"
      },
      "execution_count": null,
      "outputs": [
        {
          "output_type": "execute_result",
          "data": {
            "text/plain": [
              "99"
            ]
          },
          "metadata": {},
          "execution_count": 3
        }
      ]
    }
  ]
}